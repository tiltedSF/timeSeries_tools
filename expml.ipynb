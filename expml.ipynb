{
 "cells": [
  {
   "cell_type": "code",
   "execution_count": null,
   "id": "4771c5ef",
   "metadata": {},
   "outputs": [],
   "source": [
    "# Standart\n",
    "import pandas as pd\n",
    "import numpy as np\n",
    "import datetime as dt\n",
    "from datetime import datetime\n",
    "from tqdm.auto import tqdm\n",
    "\n",
    "# Graphics\n",
    "import matplotlib.pyplot as plt\n",
    "import plotly.express as px\n",
    "import plotly.figure_factory as ff\n",
    "\n",
    "# Graphics size\n",
    "from pylab import rcParams\n",
    "rcParams['figure.figsize'] = 20, 10\n",
    "\n",
    "# Timeseries\n",
    "import time_series\n",
    "\n",
    "import logging\n",
    "logging.getLogger('cmdstanpy').setLevel(logging.WARNING)\n",
    "temperature_ts.search_params()"
   ]
  },
  {
   "cell_type": "code",
   "execution_count": null,
   "id": "97e29167",
   "metadata": {},
   "outputs": [],
   "source": [
    "# Data\n",
    "df = pd.read_csv('Test_data/temperature.csv').rename(columns={'Date': 'ds', 'Daily minimum temperatures': 'y'})\n",
    "df = df.iloc[-360:]\n",
    "df.ds = pd.to_datetime(df.ds)\n",
    "df.y = df.y.astype(float)\n",
    "print(len(df))\n",
    "df.head()"
   ]
  },
  {
   "cell_type": "markdown",
   "id": "f1606946",
   "metadata": {},
   "source": [
    "# Base"
   ]
  },
  {
   "cell_type": "markdown",
   "id": "69d243cc",
   "metadata": {},
   "source": [
    "### init"
   ]
  },
  {
   "cell_type": "code",
   "execution_count": null,
   "id": "94f64e3a",
   "metadata": {
    "scrolled": false
   },
   "outputs": [],
   "source": [
    "# __init__\n",
    "temperature_ts = time_series.time_series(df)"
   ]
  },
  {
   "cell_type": "markdown",
   "id": "28ebf820",
   "metadata": {},
   "source": [
    "# Make predict "
   ]
  },
  {
   "cell_type": "markdown",
   "id": "56636ffd",
   "metadata": {},
   "source": [
    "#### 1. With our params "
   ]
  },
  {
   "cell_type": "code",
   "execution_count": null,
   "id": "a64790f5",
   "metadata": {},
   "outputs": [],
   "source": [
    "# Predict next = 30 days\n",
    "temperature_ts.set_inteval(30)\n",
    "# Size of validation data = 30\n",
    "temperature_ts.set_test_size(30)\n",
    "# Interval width = 0.95\n",
    "temperature_ts.set_interval_width(0.95)\n",
    "# Chouse loss func = MAPE\n",
    "temperature_ts.set_loss('MAPE')\n",
    "# Set custom date of test data = 1990-11-15\n",
    "temperature_ts.set_custom_test_size('1990-11-15') \n",
    "# Set our params of predict model\n",
    "temperature_ts.set_model_parameters({'changepoint_prior_scale': 0.05, \n",
    "                                     'seasonality_prior_scale': 10.0,\n",
    "                                     'holidays_prior_scale': 0.1,\n",
    "                                     'seasonality_mode': 'additive',\n",
    "                                     'changepoint_range': 0.95})  "
   ]
  },
  {
   "cell_type": "code",
   "execution_count": null,
   "id": "0966c601",
   "metadata": {
    "scrolled": true
   },
   "outputs": [],
   "source": [
    "temperature_ts.init_and_predict_prophet()"
   ]
  },
  {
   "cell_type": "markdown",
   "id": "15b9767e",
   "metadata": {},
   "source": [
    "#### 2. With GridSearch"
   ]
  },
  {
   "cell_type": "code",
   "execution_count": null,
   "id": "9ab01af0",
   "metadata": {},
   "outputs": [],
   "source": [
    "temperature_ts.search_params()\n",
    "print(temperature_ts.parametres_dict)"
   ]
  },
  {
   "cell_type": "code",
   "execution_count": null,
   "id": "e0aa6767",
   "metadata": {},
   "outputs": [],
   "source": [
    "temperature_ts.init_and_predict_prophet()"
   ]
  },
  {
   "cell_type": "markdown",
   "id": "4ed4c5b0",
   "metadata": {},
   "source": [
    "## Show graphs"
   ]
  },
  {
   "cell_type": "code",
   "execution_count": null,
   "id": "1c40071a",
   "metadata": {},
   "outputs": [],
   "source": []
  },
  {
   "cell_type": "markdown",
   "id": "87faefaf",
   "metadata": {},
   "source": [
    "## Auto"
   ]
  },
  {
   "cell_type": "code",
   "execution_count": null,
   "id": "0b6f3337",
   "metadata": {},
   "outputs": [],
   "source": [
    "temperature_ts.to_vanga()"
   ]
  },
  {
   "cell_type": "markdown",
   "id": "2460aaf5",
   "metadata": {},
   "source": [
    "## Decompose"
   ]
  },
  {
   "cell_type": "code",
   "execution_count": null,
   "id": "4b802302",
   "metadata": {},
   "outputs": [],
   "source": []
  },
  {
   "cell_type": "markdown",
   "id": "9274ef4d",
   "metadata": {},
   "source": [
    "## Anomalys"
   ]
  },
  {
   "cell_type": "code",
   "execution_count": null,
   "id": "1e2fdc2b",
   "metadata": {},
   "outputs": [],
   "source": []
  }
 ],
 "metadata": {
  "kernelspec": {
   "display_name": "Python 3 (ipykernel)",
   "language": "python",
   "name": "python3"
  },
  "language_info": {
   "codemirror_mode": {
    "name": "ipython",
    "version": 3
   },
   "file_extension": ".py",
   "mimetype": "text/x-python",
   "name": "python",
   "nbconvert_exporter": "python",
   "pygments_lexer": "ipython3",
   "version": "3.9.7"
  },
  "toc": {
   "base_numbering": 1,
   "nav_menu": {},
   "number_sections": true,
   "sideBar": true,
   "skip_h1_title": false,
   "title_cell": "Table of Contents",
   "title_sidebar": "Contents",
   "toc_cell": false,
   "toc_position": {},
   "toc_section_display": true,
   "toc_window_display": false
  }
 },
 "nbformat": 4,
 "nbformat_minor": 5
}
